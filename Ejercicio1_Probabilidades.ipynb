{
  "nbformat": 4,
  "nbformat_minor": 0,
  "metadata": {
    "colab": {
      "provenance": []
    },
    "kernelspec": {
      "name": "python3",
      "display_name": "Python 3"
    },
    "language_info": {
      "name": "python"
    }
  },
  "cells": [
    {
      "cell_type": "markdown",
      "source": [
        "#Prompt:\n",
        "\n",
        "\"Quiero resolver un problema de probabilidad condicional utilizando Python. El problema consiste en varias cajas que contienen frutas de diferentes tipos (manzanas y naranjas). Cada caja tiene una probabilidad de ser seleccionada y una distribución específica de frutas en su interior.\n",
        "\n",
        "El objetivo es calcular:\n",
        "\n",
        "1. La probabilidad total de elegir cada tipo de fruta.\n",
        "\n",
        "\n",
        "2. La probabilidad de que una fruta provenga de una caja específica, dado que ha sido seleccionada.\n",
        "\n",
        "\n",
        "\n",
        "Para ello, se deben seguir los siguientes pasos:\n",
        "\n",
        "1. Definir las cajas y las probabilidades de seleccionarlas.\n",
        "\n",
        "\n",
        "2. Definir la cantidad de cada tipo de fruta en cada caja.\n",
        "\n",
        "\n",
        "3. Aplicar la regla de probabilidad total para calcular la probabilidad de cada fruta.\n",
        "\n",
        "\n",
        "4. Usar la regla de Bayes para calcular las probabilidades condicionales.\n",
        "\n",
        "\n",
        "\n",
        "El código debe ser flexible para agregar más cajas y frutas. Se utilizará NumPy para facilitar los cálculos y asegurar que las probabilidades sean correctas.\""
      ],
      "metadata": {
        "id": "CP94KfGN-qJS"
      }
    },
    {
      "cell_type": "code",
      "execution_count": 1,
      "metadata": {
        "id": "kyw6QFoV16Zy"
      },
      "outputs": [],
      "source": [
        "import numpy as np\n",
        "\n",
        "def calcular_probabilidades(cajas, probabilidades_cajas, frutas):\n",
        "      \"\"\"\n",
        "      cajas: Lista con los nombres de las cajas\n",
        "      probabilidades_cajas: Lista con las probabilidades de elegir cada caja\n",
        "      frutas: Lista de listas con la distribución de frutas en cada caja\n",
        "      \"\"\"\n",
        "      total_frutas = np.sum(frutas * np.array(probabilidades_cajas)[:, None])\n",
        "\n",
        "      # Probabilidad total de cada tipo de fruta\n",
        "      prob_frutas = np.sum(frutas * np.array(probabilidades_cajas)[:, None], axis=0)\n",
        "\n",
        "      # Probabilidades condicionales P(B=r | F=f) usando la regla de Bayes\n",
        "      prob_caja_dado_fruta = (frutas * np.array(probabilidades_cajas)[:, None]) / prob_frutas[None, :]\n",
        "\n",
        "      return prob_frutas / np.sum(prob_frutas), prob_caja_dado_fruta"
      ]
    },
    {
      "cell_type": "code",
      "source": [
        "#Definir cajas y probabilidades de seleccionarlas\n",
        "cajas = [\"roja\", \"azul\"]\n",
        "probabilidades_cajas = [0.4, 0.6]  # La suma debe ser 1\n",
        "\n",
        "#Definir la cantidad de cada fruta en cada caja (columnas: manzana, naranja)\n",
        "frutas = np.array([\n",
        "      [2, 4],  # Caja roja\n",
        "      [3, 1],  # Caja azul\n",
        "])"
      ],
      "metadata": {
        "id": "50eCOa5P3U4g"
      },
      "execution_count": 2,
      "outputs": []
    },
    {
      "cell_type": "code",
      "source": [
        "#Cálculo de probabilidades\n",
        "prob_frutas, prob_caja_dado_fruta = calcular_probabilidades(cajas, probabilidades_cajas, frutas)\n",
        "\n",
        "#Imprimir resultados\n",
        "print(\"Probabilidad de cada fruta:\")\n",
        "print(f\"P(F=manzana) = {prob_frutas[0]:.4f}\")\n",
        "print(f\"P(F=naranja) = {prob_frutas[1]:.4f}\")\n",
        "\n",
        "print(\"\\nProbabilidades condicionales P(B=caja | F=fruta):\")\n",
        "for i, caja in enumerate(cajas):\n",
        "    print(f\"P(B={caja} | F=manzana) = {prob_caja_dado_fruta[i, 0]:.4f}\")\n",
        "    print(f\"P(B={caja} | F=naranja) = {prob_caja_dado_fruta[i, 1]:.4f}\")"
      ],
      "metadata": {
        "colab": {
          "base_uri": "https://localhost:8080/"
        },
        "id": "0uaiK-cF4Fi6",
        "outputId": "480e4772-0f2c-4ad9-faa7-ee9f56b242a5"
      },
      "execution_count": 3,
      "outputs": [
        {
          "output_type": "stream",
          "name": "stdout",
          "text": [
            "Probabilidad de cada fruta:\n",
            "P(F=manzana) = 0.5417\n",
            "P(F=naranja) = 0.4583\n",
            "\n",
            "Probabilidades condicionales P(B=caja | F=fruta):\n",
            "P(B=roja | F=manzana) = 0.3077\n",
            "P(B=roja | F=naranja) = 0.7273\n",
            "P(B=azul | F=manzana) = 0.6923\n",
            "P(B=azul | F=naranja) = 0.2727\n"
          ]
        }
      ]
    },
    {
      "cell_type": "markdown",
      "source": [
        "# Ejercicio con mas frutas y cajas\n"
      ],
      "metadata": {
        "id": "lQvRbZqJAmsq"
      }
    },
    {
      "cell_type": "code",
      "source": [
        "#Definir cajas y probabilidades de seleccionarlas\n",
        "cajas = [\"roja\", \"azul\" , \"amarilla\",\"verde\"]\n",
        "probabilidades_cajas = [0.3, 0.4 ,0.2,0.1]  # La suma debe ser 1\n",
        "\n",
        "#Definir la cantidad de cada fruta en cada caja (columnas: manzana, naranja)\n",
        "frutas = np.array([\n",
        "      [2, 4],  # Caja roja\n",
        "      [3, 1],  # Caja azul\n",
        "      [4, 1],  # Caja amarilla\n",
        "      [5, 3],  # Caja verde\n",
        "])"
      ],
      "metadata": {
        "id": "tnhEh2vZAimq"
      },
      "execution_count": 4,
      "outputs": []
    },
    {
      "cell_type": "code",
      "source": [
        "#Cálculo de probabilidades\n",
        "prob_frutas, prob_caja_dado_fruta = calcular_probabilidades(cajas, probabilidades_cajas, frutas)\n",
        "\n",
        "#Imprimir resultados\n",
        "print(\"Probabilidad de cada fruta:\")\n",
        "print(f\"P(F=manzana) = {prob_frutas[0]:.4f}\")\n",
        "print(f\"P(F=naranja) = {prob_frutas[1]:.4f}\")\n",
        "print(f\"P(F=Madarina) = {prob_frutas[0]:.4f}\")\n",
        "print(f\"P(F=Papaya) = {prob_frutas[1]:.4f}\")\n",
        "\n",
        "print(\"\\nProbabilidades condicionales P(B=caja | F=fruta):\")\n",
        "for i, caja in enumerate(cajas):\n",
        "    print(f\"P(B={caja} | F=manzana) = {prob_caja_dado_fruta[i, 0]:.4f}\")\n",
        "    print(f\"P(B={caja} | F=naranja) = {prob_caja_dado_fruta[i, 1]:.4f}\")"
      ],
      "metadata": {
        "id": "2eCoxjxzAl0a",
        "colab": {
          "base_uri": "https://localhost:8080/"
        },
        "outputId": "41929c22-0fa3-4f10-e413-4da9ebdc63d0"
      },
      "execution_count": 6,
      "outputs": [
        {
          "output_type": "stream",
          "name": "stdout",
          "text": [
            "Probabilidad de cada fruta:\n",
            "P(F=manzana) = 0.5962\n",
            "P(F=naranja) = 0.4038\n",
            "P(F=Madarina) = 0.5962\n",
            "P(F=Papaya) = 0.4038\n",
            "\n",
            "Probabilidades condicionales P(B=caja | F=fruta):\n",
            "P(B=roja | F=manzana) = 0.1935\n",
            "P(B=roja | F=naranja) = 0.5714\n",
            "P(B=azul | F=manzana) = 0.3871\n",
            "P(B=azul | F=naranja) = 0.1905\n",
            "P(B=amarilla | F=manzana) = 0.2581\n",
            "P(B=amarilla | F=naranja) = 0.0952\n",
            "P(B=verde | F=manzana) = 0.1613\n",
            "P(B=verde | F=naranja) = 0.1429\n"
          ]
        }
      ]
    }
  ]
}